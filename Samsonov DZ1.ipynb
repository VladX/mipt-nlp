{
 "metadata": {
  "name": "",
  "signature": "sha256:97865f0ba6093740eee18a8fac0ce471b7ba6f767bb4f4de411774ff71c8c1c0"
 },
 "nbformat": 3,
 "nbformat_minor": 0,
 "worksheets": [
  {
   "cells": [
    {
     "cell_type": "code",
     "collapsed": false,
     "input": [
      "import numpy as np\n",
      "\n",
      "text, label = [], []\n",
      "\n",
      "for s in open('SMSSpamCollection.txt'):\n",
      "    l,t = s.strip().split('\\t')\n",
      "    text.append(t)\n",
      "    label.append(l == 'spam')"
     ],
     "language": "python",
     "metadata": {},
     "outputs": [],
     "prompt_number": 1
    },
    {
     "cell_type": "code",
     "collapsed": false,
     "input": [
      "from sklearn.feature_extraction.text import CountVectorizer\n",
      "\n",
      "vec = CountVectorizer()\n",
      "vec.fit(text)\n",
      "X = vec.transform(text)"
     ],
     "language": "python",
     "metadata": {},
     "outputs": [],
     "prompt_number": 2
    },
    {
     "cell_type": "code",
     "collapsed": false,
     "input": [
      "from sklearn.cross_validation import cross_val_score\n",
      "from sklearn.linear_model import LogisticRegression\n",
      "\n",
      "clf = LogisticRegression()\n",
      "print cross_val_score(clf, X, label, cv=10, scoring='f1').mean()"
     ],
     "language": "python",
     "metadata": {},
     "outputs": [
      {
       "output_type": "stream",
       "stream": "stdout",
       "text": [
        "0.933348526858\n"
       ]
      }
     ],
     "prompt_number": 3
    },
    {
     "cell_type": "code",
     "collapsed": false,
     "input": [
      "clf = LogisticRegression().fit(X, label)"
     ],
     "language": "python",
     "metadata": {},
     "outputs": [],
     "prompt_number": 4
    },
    {
     "cell_type": "code",
     "collapsed": false,
     "input": [
      "print clf.predict(vec.transform(['FreeMsg: Txt: CALL to No: 86888 & claim your reward of 3 hours talk time to use from your phone now! Subscribe6GB']))\n",
      "print clf.predict(vec.transform(['FreeMsg: Txt: claim your reward of 3 hours talk time']))\n",
      "print clf.predict(vec.transform(['Have you visited the last lecture on physics?']))\n",
      "print clf.predict(vec.transform(['Have you visited the last lecture on physics? Just buy this book and you will have all materials! Only 99$']))\n",
      "print clf.predict(vec.transform(['Only 99$']))"
     ],
     "language": "python",
     "metadata": {},
     "outputs": [
      {
       "output_type": "stream",
       "stream": "stdout",
       "text": [
        "[ True]\n",
        "[ True]\n",
        "[False]\n",
        "[False]\n",
        "[False]\n"
       ]
      }
     ],
     "prompt_number": 5
    },
    {
     "cell_type": "markdown",
     "metadata": {},
     "source": [
      "1 1 0 0 0"
     ]
    },
    {
     "cell_type": "code",
     "collapsed": false,
     "input": [
      "vec = CountVectorizer(ngram_range=(2,2))\n",
      "vec.fit(text)\n",
      "X = vec.transform(text)\n",
      "\n",
      "print round(cross_val_score(LogisticRegression(), X, label, cv=10, scoring='f1').mean(),2)\n",
      "\n",
      "vec = CountVectorizer(ngram_range=(3,3))\n",
      "vec.fit(text)\n",
      "X = vec.transform(text)\n",
      "\n",
      "print round(cross_val_score(LogisticRegression(), X, label, cv=10, scoring='f1').mean(),2)\n",
      "\n",
      "vec = CountVectorizer(ngram_range=(1,3))\n",
      "vec.fit(text)\n",
      "X = vec.transform(text)\n",
      "\n",
      "print round(cross_val_score(LogisticRegression(), X, label, cv=10, scoring='f1').mean(),2)"
     ],
     "language": "python",
     "metadata": {},
     "outputs": [
      {
       "output_type": "stream",
       "stream": "stdout",
       "text": [
        "0.82\n",
        "0.73"
       ]
      },
      {
       "output_type": "stream",
       "stream": "stdout",
       "text": [
        "\n",
        "0.93"
       ]
      },
      {
       "output_type": "stream",
       "stream": "stdout",
       "text": [
        "\n"
       ]
      }
     ],
     "prompt_number": 6
    },
    {
     "cell_type": "code",
     "collapsed": false,
     "input": [
      "from sklearn.naive_bayes import MultinomialNB\n",
      "\n",
      "vec = CountVectorizer(ngram_range=(2,2))\n",
      "vec.fit(text)\n",
      "X = vec.transform(text)\n",
      "\n",
      "print round(cross_val_score(MultinomialNB(), X, label, cv=10, scoring='f1').mean(),2)\n",
      "\n",
      "vec = CountVectorizer(ngram_range=(3,3))\n",
      "vec.fit(text)\n",
      "X = vec.transform(text)\n",
      "\n",
      "print round(cross_val_score(MultinomialNB(), X, label, cv=10, scoring='f1').mean(),2)\n",
      "\n",
      "vec = CountVectorizer(ngram_range=(1,3))\n",
      "vec.fit(text)\n",
      "X = vec.transform(text)\n",
      "\n",
      "print round(cross_val_score(MultinomialNB(), X, label, cv=10, scoring='f1').mean(),2)"
     ],
     "language": "python",
     "metadata": {},
     "outputs": [
      {
       "output_type": "stream",
       "stream": "stdout",
       "text": [
        "0.65\n",
        "0.38"
       ]
      },
      {
       "output_type": "stream",
       "stream": "stdout",
       "text": [
        "\n",
        "0.89"
       ]
      },
      {
       "output_type": "stream",
       "stream": "stdout",
       "text": [
        "\n"
       ]
      }
     ],
     "prompt_number": 7
    },
    {
     "cell_type": "code",
     "collapsed": false,
     "input": [
      "from sklearn.feature_extraction.text import TfidfVectorizer\n",
      "\n",
      "vec = TfidfVectorizer()\n",
      "vec.fit(text)\n",
      "X = vec.transform(text)\n",
      "\n",
      "print round(cross_val_score(LogisticRegression(), X, label, cv=10, scoring='f1').mean(),2)"
     ],
     "language": "python",
     "metadata": {},
     "outputs": [
      {
       "output_type": "stream",
       "stream": "stdout",
       "text": [
        "0.85\n"
       ]
      }
     ],
     "prompt_number": 8
    },
    {
     "cell_type": "code",
     "collapsed": false,
     "input": [
      "from sklearn.svm import LinearSVC\n",
      "from sklearn.grid_search import GridSearchCV\n",
      "\n",
      "vec = CountVectorizer(ngram_range=(1,3))\n",
      "vec.fit(text)\n",
      "X = vec.transform(text)\n",
      "\n",
      "parameters = {'C':[0.25, 0.5, 1.0, 2.0, 4.0], 'penalty':['l1', 'l2'], 'dual':[False]}\n",
      "\n",
      "clf = GridSearchCV(LinearSVC(), parameters, cv=10, scoring='f1')\n",
      "clf.fit(X, label)\n",
      "\n",
      "print clf.best_params_\n",
      "print clf.best_score_"
     ],
     "language": "python",
     "metadata": {},
     "outputs": [
      {
       "output_type": "stream",
       "stream": "stdout",
       "text": [
        "{'penalty': 'l1', 'C': 0.25, 'dual': False}\n",
        "0.934313242492\n"
       ]
      }
     ],
     "prompt_number": 76
    },
    {
     "cell_type": "markdown",
     "metadata": {},
     "source": [
      "\u0421 SVM + GridSearch \u043f\u043e\u043b\u0443\u0447\u0438\u043b\u0438 \u043a\u0430\u0447\u0435\u0441\u0442\u0432\u043e \u0447\u0443\u0442\u044c \u043b\u0443\u0447\u0448\u0435."
     ]
    },
    {
     "cell_type": "markdown",
     "metadata": {},
     "source": [
      "\u0412\u044b\u0432\u043e\u0434\n",
      "---\n",
      "\u041f\u0440\u043e\u0441\u0442\u044b\u0435 \u0444\u0438\u0447\u0438 \u0432\u0440\u043e\u0434\u0435 CountVectorizer \u0438\u043d\u043e\u0433\u0434\u0430 \u0440\u0430\u0431\u043e\u0442\u0430\u044e\u0442 \u0445\u043e\u0440\u043e\u0448\u043e."
     ]
    },
    {
     "cell_type": "code",
     "collapsed": false,
     "input": [],
     "language": "python",
     "metadata": {},
     "outputs": []
    }
   ],
   "metadata": {}
  }
 ]
}